{
 "cells": [
  {
   "cell_type": "code",
   "execution_count": 1,
   "id": "507d7e6c-8baf-40d2-8631-be507624241c",
   "metadata": {},
   "outputs": [],
   "source": [
    "import pandas as pd"
   ]
  },
  {
   "cell_type": "code",
   "execution_count": 21,
   "id": "4196514f-1423-4141-bba9-29bc1c7ba360",
   "metadata": {},
   "outputs": [],
   "source": [
    "df = pd.read_csv('NFL_draft_data - stats.csv')"
   ]
  },
  {
   "cell_type": "code",
   "execution_count": 22,
   "id": "897c633d-6d77-4435-a43d-f6b8342c1670",
   "metadata": {},
   "outputs": [
    {
     "data": {
      "text/html": [
       "<div>\n",
       "<style scoped>\n",
       "    .dataframe tbody tr th:only-of-type {\n",
       "        vertical-align: middle;\n",
       "    }\n",
       "\n",
       "    .dataframe tbody tr th {\n",
       "        vertical-align: top;\n",
       "    }\n",
       "\n",
       "    .dataframe thead th {\n",
       "        text-align: right;\n",
       "    }\n",
       "</style>\n",
       "<table border=\"1\" class=\"dataframe\">\n",
       "  <thead>\n",
       "    <tr style=\"text-align: right;\">\n",
       "      <th></th>\n",
       "      <th>NAME</th>\n",
       "      <th>ATT</th>\n",
       "      <th>COMPLETIONS</th>\n",
       "      <th>INT</th>\n",
       "      <th>PCT</th>\n",
       "      <th>TD</th>\n",
       "      <th>YDS</th>\n",
       "      <th>YPA</th>\n",
       "      <th>Drafted</th>\n",
       "      <th>draft_year</th>\n",
       "    </tr>\n",
       "  </thead>\n",
       "  <tbody>\n",
       "    <tr>\n",
       "      <th>0</th>\n",
       "      <td>Brady White</td>\n",
       "      <td>418</td>\n",
       "      <td>252</td>\n",
       "      <td>10</td>\n",
       "      <td>0.603</td>\n",
       "      <td>31</td>\n",
       "      <td>3376</td>\n",
       "      <td>8.1</td>\n",
       "      <td>0</td>\n",
       "      <td>2021</td>\n",
       "    </tr>\n",
       "    <tr>\n",
       "      <th>1</th>\n",
       "      <td>Chris Ferguson</td>\n",
       "      <td>37</td>\n",
       "      <td>19</td>\n",
       "      <td>0</td>\n",
       "      <td>0.514</td>\n",
       "      <td>4</td>\n",
       "      <td>197</td>\n",
       "      <td>5.3</td>\n",
       "      <td>0</td>\n",
       "      <td>2021</td>\n",
       "    </tr>\n",
       "    <tr>\n",
       "      <th>2</th>\n",
       "      <td>Collin Hill</td>\n",
       "      <td>211</td>\n",
       "      <td>124</td>\n",
       "      <td>6</td>\n",
       "      <td>0.588</td>\n",
       "      <td>6</td>\n",
       "      <td>1393</td>\n",
       "      <td>6.6</td>\n",
       "      <td>0</td>\n",
       "      <td>2021</td>\n",
       "    </tr>\n",
       "    <tr>\n",
       "      <th>3</th>\n",
       "      <td>Davis Mills</td>\n",
       "      <td>193</td>\n",
       "      <td>127</td>\n",
       "      <td>3</td>\n",
       "      <td>0.658</td>\n",
       "      <td>7</td>\n",
       "      <td>1510</td>\n",
       "      <td>7.8</td>\n",
       "      <td>1</td>\n",
       "      <td>2021</td>\n",
       "    </tr>\n",
       "    <tr>\n",
       "      <th>4</th>\n",
       "      <td>Feleipe Franks</td>\n",
       "      <td>237</td>\n",
       "      <td>162</td>\n",
       "      <td>4</td>\n",
       "      <td>0.684</td>\n",
       "      <td>17</td>\n",
       "      <td>2091</td>\n",
       "      <td>8.8</td>\n",
       "      <td>0</td>\n",
       "      <td>2021</td>\n",
       "    </tr>\n",
       "  </tbody>\n",
       "</table>\n",
       "</div>"
      ],
      "text/plain": [
       "             NAME  ATT  COMPLETIONS  INT    PCT  TD   YDS  YPA  Drafted  \\\n",
       "0     Brady White  418          252   10  0.603  31  3376  8.1        0   \n",
       "1  Chris Ferguson   37           19    0  0.514   4   197  5.3        0   \n",
       "2     Collin Hill  211          124    6  0.588   6  1393  6.6        0   \n",
       "3     Davis Mills  193          127    3  0.658   7  1510  7.8        1   \n",
       "4  Feleipe Franks  237          162    4  0.684  17  2091  8.8        0   \n",
       "\n",
       "   draft_year  \n",
       "0        2021  \n",
       "1        2021  \n",
       "2        2021  \n",
       "3        2021  \n",
       "4        2021  "
      ]
     },
     "execution_count": 22,
     "metadata": {},
     "output_type": "execute_result"
    }
   ],
   "source": [
    "df.head()"
   ]
  },
  {
   "cell_type": "code",
   "execution_count": 23,
   "id": "29ff3ab8-dd45-4005-bf4d-1e45264dbd2d",
   "metadata": {},
   "outputs": [
    {
     "data": {
      "text/plain": [
       "NAME           0\n",
       "ATT            0\n",
       "COMPLETIONS    0\n",
       "INT            0\n",
       "PCT            0\n",
       "TD             0\n",
       "YDS            0\n",
       "YPA            0\n",
       "Drafted        0\n",
       "draft_year     0\n",
       "dtype: int64"
      ]
     },
     "execution_count": 23,
     "metadata": {},
     "output_type": "execute_result"
    }
   ],
   "source": [
    "df.isnull().sum()"
   ]
  },
  {
   "cell_type": "code",
   "execution_count": 24,
   "id": "0f943608-194c-4a3f-ade0-b6103b3d60ef",
   "metadata": {},
   "outputs": [
    {
     "data": {
      "text/plain": [
       "(58, 10)"
      ]
     },
     "execution_count": 24,
     "metadata": {},
     "output_type": "execute_result"
    }
   ],
   "source": [
    "df.shape"
   ]
  },
  {
   "cell_type": "code",
   "execution_count": 26,
   "id": "7ba5aaa9-67de-4e35-baf4-e40231f2dba1",
   "metadata": {},
   "outputs": [],
   "source": [
    "df.columns = df.columns.str.lower()"
   ]
  },
  {
   "cell_type": "code",
   "execution_count": 28,
   "id": "a502d1d6-29fe-4ad6-91ab-d5350be37117",
   "metadata": {},
   "outputs": [
    {
     "data": {
      "text/plain": [
       "0    39\n",
       "1    19\n",
       "Name: drafted, dtype: int64"
      ]
     },
     "execution_count": 28,
     "metadata": {},
     "output_type": "execute_result"
    }
   ],
   "source": [
    "df.drafted.value_counts()"
   ]
  },
  {
   "cell_type": "markdown",
   "id": "255b3b5e-39dd-43ef-9c11-6c3ad4d4fd92",
   "metadata": {},
   "source": [
    "## Doing the split"
   ]
  },
  {
   "cell_type": "code",
   "execution_count": 10,
   "id": "d72002f1-a6a2-42cf-895c-af04c6f5bc84",
   "metadata": {},
   "outputs": [],
   "source": [
    "from sklearn.model_selection import train_test_split"
   ]
  },
  {
   "cell_type": "code",
   "execution_count": 29,
   "id": "927062c4-adfd-4415-803d-d36a662f4b07",
   "metadata": {},
   "outputs": [],
   "source": [
    "X = df.drop(columns = ['name', 'drafted', 'draft_year'])\n",
    "y = df[['drafted']]"
   ]
  },
  {
   "cell_type": "code",
   "execution_count": 30,
   "id": "72b3b277-f3f8-405a-b686-626c04762b7b",
   "metadata": {},
   "outputs": [],
   "source": [
    "X_train, X_test, y_train, y_test = train_test_split(X, y, test_size = 0.2, random_state = 69)"
   ]
  },
  {
   "cell_type": "markdown",
   "id": "db9cfd60-530c-4385-a187-15da268407a8",
   "metadata": {},
   "source": [
    "## Using the forests algorithm"
   ]
  },
  {
   "cell_type": "code",
   "execution_count": 15,
   "id": "ac7454fd-1d8c-41ca-9c0f-0e2a1029ecfd",
   "metadata": {},
   "outputs": [],
   "source": [
    "from sklearn.ensemble import RandomForestClassifier\n",
    "from sklearn import metrics"
   ]
  },
  {
   "cell_type": "code",
   "execution_count": 39,
   "id": "a6dc1e7e-09cc-4ba3-9c98-cb7767cba8a2",
   "metadata": {},
   "outputs": [
    {
     "name": "stderr",
     "output_type": "stream",
     "text": [
      "/Users/marcosrubio/opt/anaconda3/lib/python3.9/site-packages/sklearn/utils/deprecation.py:87: FutureWarning: Function plot_confusion_matrix is deprecated; Function `plot_confusion_matrix` is deprecated in 1.0 and will be removed in 1.2. Use one of the class methods: ConfusionMatrixDisplay.from_predictions or ConfusionMatrixDisplay.from_estimator.\n",
      "  warnings.warn(msg, category=FutureWarning)\n"
     ]
    },
    {
     "data": {
      "text/plain": [
       "<sklearn.metrics._plot.confusion_matrix.ConfusionMatrixDisplay at 0x7fa9e8460970>"
      ]
     },
     "execution_count": 39,
     "metadata": {},
     "output_type": "execute_result"
    },
    {
     "data": {
      "image/png": "[encoded data removed]",
      "text/plain": [
       "<Figure size 432x288 with 2 Axes>"
      ]
     },
     "metadata": {
      "needs_background": "light"
     },
     "output_type": "display_data"
    }
   ],
   "source": [
    "best_forest = RandomForestClassifier(max_depth=5, n_estimators=50, criterion = \"log_loss\").fit(X_train, y_train.values.ravel())\n",
    "metrics.plot_confusion_matrix(best_forest, X_train, y_train)"
   ]
  },
  {
   "cell_type": "code",
   "execution_count": 40,
   "id": "18e6a3c1-afbe-4ec9-a478-777f016a3b5e",
   "metadata": {},
   "outputs": [
    {
     "name": "stderr",
     "output_type": "stream",
     "text": [
      "/Users/marcosrubio/opt/anaconda3/lib/python3.9/site-packages/sklearn/utils/deprecation.py:87: FutureWarning: Function plot_confusion_matrix is deprecated; Function `plot_confusion_matrix` is deprecated in 1.0 and will be removed in 1.2. Use one of the class methods: ConfusionMatrixDisplay.from_predictions or ConfusionMatrixDisplay.from_estimator.\n",
      "  warnings.warn(msg, category=FutureWarning)\n"
     ]
    },
    {
     "data": {
      "text/plain": [
       "<sklearn.metrics._plot.confusion_matrix.ConfusionMatrixDisplay at 0x7fa9e8712c10>"
      ]
     },
     "execution_count": 40,
     "metadata": {},
     "output_type": "execute_result"
    },
    {
     "data": {
      "image/png": "[encoded data removed]",
      "text/plain": [
       "<Figure size 432x288 with 2 Axes>"
      ]
     },
     "metadata": {
      "needs_background": "light"
     },
     "output_type": "display_data"
    }
   ],
   "source": [
    "metrics.plot_confusion_matrix(best_forest, X_test, y_test)"
   ]
  },
  {
   "cell_type": "code",
   "execution_count": 99,
   "id": "2bc70a33-7dbb-4bae-bb36-a20e5f73f6ef",
   "metadata": {},
   "outputs": [],
   "source": [
    "pred_test_qb = best_forest.predict(X_test)"
   ]
  },
  {
   "cell_type": "code",
   "execution_count": 100,
   "id": "4ff35e13-5980-4a87-9220-f6285a37d75d",
   "metadata": {},
   "outputs": [
    {
     "data": {
      "text/plain": [
       "0.9166666666666666"
      ]
     },
     "execution_count": 100,
     "metadata": {},
     "output_type": "execute_result"
    }
   ],
   "source": [
    "metrics.accuracy_score(y_test, pred_test_qb)"
   ]
  },
  {
   "cell_type": "markdown",
   "id": "29f70707-af4c-4db1-b305-1b9fa709cc16",
   "metadata": {},
   "source": [
    "# Trying another position, Running Back"
   ]
  },
  {
   "cell_type": "code",
   "execution_count": 112,
   "id": "5d0890b2-1848-4648-b016-d69564027d15",
   "metadata": {},
   "outputs": [],
   "source": [
    "df_rb = pd.read_csv('NFL_draft_data - full_stats_rb.csv')"
   ]
  },
  {
   "cell_type": "code",
   "execution_count": 113,
   "id": "f059c8e6-e046-4b1b-86ab-fbf47a9d4699",
   "metadata": {
    "tags": []
   },
   "outputs": [],
   "source": [
    "df_rb = df_rb.fillna(0)"
   ]
  },
  {
   "cell_type": "code",
   "execution_count": 114,
   "id": "ca95bef6-d49d-431a-b1a4-94b7d47af5ce",
   "metadata": {},
   "outputs": [
    {
     "data": {
      "text/html": [
       "<div>\n",
       "<style scoped>\n",
       "    .dataframe tbody tr th:only-of-type {\n",
       "        vertical-align: middle;\n",
       "    }\n",
       "\n",
       "    .dataframe tbody tr th {\n",
       "        vertical-align: top;\n",
       "    }\n",
       "\n",
       "    .dataframe thead th {\n",
       "        text-align: right;\n",
       "    }\n",
       "</style>\n",
       "<table border=\"1\" class=\"dataframe\">\n",
       "  <thead>\n",
       "    <tr style=\"text-align: right;\">\n",
       "      <th></th>\n",
       "      <th>Name</th>\n",
       "      <th>num_carries</th>\n",
       "      <th>fumbles</th>\n",
       "      <th>longest_receiving_yards</th>\n",
       "      <th>longest_rushing_yards</th>\n",
       "      <th>receptions</th>\n",
       "      <th>receiving_touchdowns</th>\n",
       "      <th>rushing_touchdowns</th>\n",
       "      <th>kick_returns_total_yards</th>\n",
       "      <th>receiving_total_yards</th>\n",
       "      <th>rushing_total_yards</th>\n",
       "      <th>yards_per_carry</th>\n",
       "      <th>yards_per_reception</th>\n",
       "      <th>weight</th>\n",
       "      <th>height</th>\n",
       "      <th>40_yards_combine</th>\n",
       "      <th>drafted</th>\n",
       "      <th>year</th>\n",
       "    </tr>\n",
       "  </thead>\n",
       "  <tbody>\n",
       "    <tr>\n",
       "      <th>0</th>\n",
       "      <td>Aaron McAllister</td>\n",
       "      <td>37.0</td>\n",
       "      <td>1.0</td>\n",
       "      <td>71.0</td>\n",
       "      <td>66.0</td>\n",
       "      <td>6.0</td>\n",
       "      <td>1.0</td>\n",
       "      <td>3.0</td>\n",
       "      <td>157.0</td>\n",
       "      <td>90.0</td>\n",
       "      <td>254.0</td>\n",
       "      <td>6.9</td>\n",
       "      <td>15.0</td>\n",
       "      <td>216</td>\n",
       "      <td>5.10</td>\n",
       "      <td>4.55</td>\n",
       "      <td>0</td>\n",
       "      <td>2021</td>\n",
       "    </tr>\n",
       "    <tr>\n",
       "      <th>1</th>\n",
       "      <td>B.J. Emmons</td>\n",
       "      <td>37.0</td>\n",
       "      <td>0.0</td>\n",
       "      <td>6.0</td>\n",
       "      <td>46.0</td>\n",
       "      <td>3.0</td>\n",
       "      <td>0.0</td>\n",
       "      <td>1.0</td>\n",
       "      <td>0.0</td>\n",
       "      <td>13.0</td>\n",
       "      <td>157.0</td>\n",
       "      <td>4.2</td>\n",
       "      <td>4.3</td>\n",
       "      <td>220</td>\n",
       "      <td>6.00</td>\n",
       "      <td>0.00</td>\n",
       "      <td>0</td>\n",
       "      <td>2021</td>\n",
       "    </tr>\n",
       "    <tr>\n",
       "      <th>2</th>\n",
       "      <td>B.J. Smith</td>\n",
       "      <td>73.0</td>\n",
       "      <td>0.0</td>\n",
       "      <td>29.0</td>\n",
       "      <td>38.0</td>\n",
       "      <td>26.0</td>\n",
       "      <td>0.0</td>\n",
       "      <td>3.0</td>\n",
       "      <td>0.0</td>\n",
       "      <td>227.0</td>\n",
       "      <td>277.0</td>\n",
       "      <td>3.8</td>\n",
       "      <td>8.7</td>\n",
       "      <td>216</td>\n",
       "      <td>5.90</td>\n",
       "      <td>4.63</td>\n",
       "      <td>0</td>\n",
       "      <td>2021</td>\n",
       "    </tr>\n",
       "    <tr>\n",
       "      <th>3</th>\n",
       "      <td>Ben Mason</td>\n",
       "      <td>37.0</td>\n",
       "      <td>0.0</td>\n",
       "      <td>9.0</td>\n",
       "      <td>0.0</td>\n",
       "      <td>2.0</td>\n",
       "      <td>1.0</td>\n",
       "      <td>7.0</td>\n",
       "      <td>0.0</td>\n",
       "      <td>17.0</td>\n",
       "      <td>32.0</td>\n",
       "      <td>1.0</td>\n",
       "      <td>8.5</td>\n",
       "      <td>254</td>\n",
       "      <td>6.30</td>\n",
       "      <td>4.73</td>\n",
       "      <td>1</td>\n",
       "      <td>2021</td>\n",
       "    </tr>\n",
       "    <tr>\n",
       "      <th>4</th>\n",
       "      <td>Brenden Knox</td>\n",
       "      <td>185.0</td>\n",
       "      <td>0.0</td>\n",
       "      <td>58.0</td>\n",
       "      <td>45.0</td>\n",
       "      <td>7.0</td>\n",
       "      <td>1.0</td>\n",
       "      <td>9.0</td>\n",
       "      <td>26.0</td>\n",
       "      <td>86.0</td>\n",
       "      <td>887.0</td>\n",
       "      <td>4.8</td>\n",
       "      <td>12.3</td>\n",
       "      <td>220</td>\n",
       "      <td>5.11</td>\n",
       "      <td>4.64</td>\n",
       "      <td>0</td>\n",
       "      <td>2021</td>\n",
       "    </tr>\n",
       "  </tbody>\n",
       "</table>\n",
       "</div>"
      ],
      "text/plain": [
       "               Name  num_carries  fumbles  longest_receiving_yards  \\\n",
       "0  Aaron McAllister         37.0      1.0                     71.0   \n",
       "1       B.J. Emmons         37.0      0.0                      6.0   \n",
       "2        B.J. Smith         73.0      0.0                     29.0   \n",
       "3         Ben Mason         37.0      0.0                      9.0   \n",
       "4      Brenden Knox        185.0      0.0                     58.0   \n",
       "\n",
       "   longest_rushing_yards  receptions  receiving_touchdowns  \\\n",
       "0                   66.0         6.0                   1.0   \n",
       "1                   46.0         3.0                   0.0   \n",
       "2                   38.0        26.0                   0.0   \n",
       "3                    0.0         2.0                   1.0   \n",
       "4                   45.0         7.0                   1.0   \n",
       "\n",
       "   rushing_touchdowns  kick_returns_total_yards  receiving_total_yards  \\\n",
       "0                 3.0                     157.0                   90.0   \n",
       "1                 1.0                       0.0                   13.0   \n",
       "2                 3.0                       0.0                  227.0   \n",
       "3                 7.0                       0.0                   17.0   \n",
       "4                 9.0                      26.0                   86.0   \n",
       "\n",
       "   rushing_total_yards  yards_per_carry  yards_per_reception  weight  height  \\\n",
       "0                254.0              6.9                 15.0     216    5.10   \n",
       "1                157.0              4.2                  4.3     220    6.00   \n",
       "2                277.0              3.8                  8.7     216    5.90   \n",
       "3                 32.0              1.0                  8.5     254    6.30   \n",
       "4                887.0              4.8                 12.3     220    5.11   \n",
       "\n",
       "   40_yards_combine  drafted  year  \n",
       "0              4.55        0  2021  \n",
       "1              0.00        0  2021  \n",
       "2              4.63        0  2021  \n",
       "3              4.73        1  2021  \n",
       "4              4.64        0  2021  "
      ]
     },
     "execution_count": 114,
     "metadata": {},
     "output_type": "execute_result"
    }
   ],
   "source": [
    "df_rb.head()"
   ]
  },
  {
   "cell_type": "code",
   "execution_count": 115,
   "id": "72833694-c309-4372-b683-031303bd87ea",
   "metadata": {},
   "outputs": [],
   "source": [
    "X_rb = df_rb.drop(columns = ['Name', 'drafted', 'year'])\n",
    "y_rb = df_rb[['drafted']]"
   ]
  },
  {
   "cell_type": "code",
   "execution_count": 116,
   "id": "40da9079-0600-47bf-8759-67d18ddeedc8",
   "metadata": {},
   "outputs": [],
   "source": [
    "X_train_rb, X_test_rb, y_train_rb, y_test_rb = train_test_split(X_rb, y_rb, test_size = 0.2, random_state = 69)"
   ]
  },
  {
   "cell_type": "code",
   "execution_count": 117,
   "id": "f88677c9-4046-43b8-9750-1750cde2a06c",
   "metadata": {},
   "outputs": [],
   "source": [
    "forest_rb = RandomForestClassifier(max_depth=5, n_estimators=100, criterion = \"log_loss\").fit(X_train_rb, y_train_rb.values.ravel())"
   ]
  },
  {
   "cell_type": "code",
   "execution_count": 118,
   "id": "1edf1f93-b999-4116-b5c0-8cf7281f9de1",
   "metadata": {},
   "outputs": [
    {
     "data": {
      "text/plain": [
       "<sklearn.metrics._plot.confusion_matrix.ConfusionMatrixDisplay at 0x7fa9e9187880>"
      ]
     },
     "execution_count": 118,
     "metadata": {},
     "output_type": "execute_result"
    },
    {
     "data": {
      "image/png": "[encoded data removed]",
      "text/plain": [
       "<Figure size 432x288 with 2 Axes>"
      ]
     },
     "metadata": {
      "needs_background": "light"
     },
     "output_type": "display_data"
    }
   ],
   "source": [
    "metrics.ConfusionMatrixDisplay.from_estimator(forest_rb, X_train_rb, y_train_rb)"
   ]
  },
  {
   "cell_type": "code",
   "execution_count": 88,
   "id": "3b01cf57-a01f-44d4-8417-5e8b08d3b869",
   "metadata": {},
   "outputs": [
    {
     "name": "stderr",
     "output_type": "stream",
     "text": [
      "/Users/marcosrubio/opt/anaconda3/lib/python3.9/site-packages/sklearn/utils/deprecation.py:87: FutureWarning: Function plot_confusion_matrix is deprecated; Function `plot_confusion_matrix` is deprecated in 1.0 and will be removed in 1.2. Use one of the class methods: ConfusionMatrixDisplay.from_predictions or ConfusionMatrixDisplay.from_estimator.\n",
      "  warnings.warn(msg, category=FutureWarning)\n"
     ]
    },
    {
     "data": {
      "text/plain": [
       "<sklearn.metrics._plot.confusion_matrix.ConfusionMatrixDisplay at 0x7fa9ea971c40>"
      ]
     },
     "execution_count": 88,
     "metadata": {},
     "output_type": "execute_result"
    },
    {
     "data": {
      "image/png": "[encoded data removed]",
      "text/plain": [
       "<Figure size 432x288 with 2 Axes>"
      ]
     },
     "metadata": {
      "needs_background": "light"
     },
     "output_type": "display_data"
    }
   ],
   "source": [
    "metrics.plot_confusion_matrix(forest_rb, X_train_rb, y_train_rb)"
   ]
  },
  {
   "cell_type": "code",
   "execution_count": 89,
   "id": "a1c583d5-28ed-4bdb-91c7-98139d5bbb50",
   "metadata": {},
   "outputs": [
    {
     "name": "stderr",
     "output_type": "stream",
     "text": [
      "/Users/marcosrubio/opt/anaconda3/lib/python3.9/site-packages/sklearn/utils/deprecation.py:87: FutureWarning: Function plot_confusion_matrix is deprecated; Function `plot_confusion_matrix` is deprecated in 1.0 and will be removed in 1.2. Use one of the class methods: ConfusionMatrixDisplay.from_predictions or ConfusionMatrixDisplay.from_estimator.\n",
      "  warnings.warn(msg, category=FutureWarning)\n"
     ]
    },
    {
     "data": {
      "text/plain": [
       "<sklearn.metrics._plot.confusion_matrix.ConfusionMatrixDisplay at 0x7fa9eafa1520>"
      ]
     },
     "execution_count": 89,
     "metadata": {},
     "output_type": "execute_result"
    },
    {
     "data": {
      "image/png": "[encoded data removed]",
      "text/plain": [
       "<Figure size 432x288 with 2 Axes>"
      ]
     },
     "metadata": {
      "needs_background": "light"
     },
     "output_type": "display_data"
    }
   ],
   "source": [
    "metrics.plot_confusion_matrix(forest_rb, X_test_rb, y_test_rb)"
   ]
  },
  {
   "cell_type": "code",
   "execution_count": 119,
   "id": "53c34bd2-94b3-4d32-9e23-66c348898967",
   "metadata": {},
   "outputs": [],
   "source": [
    "predict_rb = forest_rb.predict(X_test_rb)"
   ]
  },
  {
   "cell_type": "code",
   "execution_count": 109,
   "id": "460a88e3-444e-4687-94aa-1391949c2791",
   "metadata": {},
   "outputs": [
    {
     "data": {
      "text/plain": [
       "<sklearn.metrics._plot.confusion_matrix.ConfusionMatrixDisplay at 0x7fa9eaf364f0>"
      ]
     },
     "execution_count": 109,
     "metadata": {},
     "output_type": "execute_result"
    },
    {
     "data": {
      "image/png": "[encoded data removed]",
      "text/plain": [
       "<Figure size 432x288 with 2 Axes>"
      ]
     },
     "metadata": {
      "needs_background": "light"
     },
     "output_type": "display_data"
    }
   ],
   "source": [
    "metrics.ConfusionMatrixDisplay.from_estimator(forest_rb, X_test_rb, y_test_rb)"
   ]
  },
  {
   "cell_type": "code",
   "execution_count": 120,
   "id": "cb1a6aaa-3017-484b-bb2e-cd154ea5b358",
   "metadata": {},
   "outputs": [
    {
     "data": {
      "text/plain": [
       "<sklearn.metrics._plot.confusion_matrix.ConfusionMatrixDisplay at 0x7fa9eac5d0a0>"
      ]
     },
     "execution_count": 120,
     "metadata": {},
     "output_type": "execute_result"
    },
    {
     "data": {
      "image/png": "[encoded data removed]",
      "text/plain": [
       "<Figure size 432x288 with 2 Axes>"
      ]
     },
     "metadata": {
      "needs_background": "light"
     },
     "output_type": "display_data"
    }
   ],
   "source": [
    "metrics.ConfusionMatrixDisplay.from_predictions(y_test_rb, predict_rb)"
   ]
  },
  {
   "cell_type": "code",
   "execution_count": 121,
   "id": "93d7aa19-0ef6-4326-bfd3-01ff3a33e511",
   "metadata": {},
   "outputs": [
    {
     "data": {
      "text/plain": [
       "array([0.11451069, 0.01149802, 0.04579986, 0.05869914, 0.0882747 ,\n",
       "       0.0307983 , 0.10339681, 0.02158799, 0.09881558, 0.08705844,\n",
       "       0.0541712 , 0.06203718, 0.10579403, 0.03806565, 0.07949239])"
      ]
     },
     "execution_count": 121,
     "metadata": {},
     "output_type": "execute_result"
    }
   ],
   "source": [
    "forest_rb.feature_importances_"
   ]
  },
  {
   "cell_type": "code",
   "execution_count": 122,
   "id": "7b3b6348-bf93-4897-a752-5f18b438b577",
   "metadata": {},
   "outputs": [
    {
     "data": {
      "text/plain": [
       "15"
      ]
     },
     "execution_count": 122,
     "metadata": {},
     "output_type": "execute_result"
    }
   ],
   "source": [
    "len(forest_rb.feature_importances_)"
   ]
  },
  {
   "cell_type": "code",
   "execution_count": 127,
   "id": "56cb81aa-1108-4933-8f7f-4922409ce7b4",
   "metadata": {},
   "outputs": [
    {
     "data": {
      "text/plain": [
       "Index(['num_carries', 'fumbles', 'longest_receiving_yards',\n",
       "       'longest_rushing_yards', 'receptions', 'receiving_touchdowns',\n",
       "       'rushing_touchdowns', 'kick_returns_total_yards',\n",
       "       'receiving_total_yards', 'rushing_total_yards', 'yards_per_carry',\n",
       "       'yards_per_reception', 'weight', 'height', '40_yards_combine'],\n",
       "      dtype='object')"
      ]
     },
     "execution_count": 127,
     "metadata": {},
     "output_type": "execute_result"
    }
   ],
   "source": [
    "X_train_rb.columns"
   ]
  },
  {
   "cell_type": "code",
   "execution_count": 128,
   "id": "a7ac8fbe-59f7-45da-9faa-e588291b74cd",
   "metadata": {},
   "outputs": [],
   "source": [
    "df_rb_small = df_rb[['num_carries', 'receptions', 'rushing_touchdowns', 'receiving_total_yards', 'rushing_total_yards', 'weight', '40_yards_combine', 'drafted']]"
   ]
  },
  {
   "cell_type": "code",
   "execution_count": 130,
   "id": "24f4cdbd-2c38-4319-b852-9a85a92fa10e",
   "metadata": {},
   "outputs": [],
   "source": [
    "X_rb_2 = df_rb_small.drop(columns = ['drafted'])\n",
    "y_rb_2 = df_rb_small[['drafted']]"
   ]
  },
  {
   "cell_type": "code",
   "execution_count": 131,
   "id": "c8aa1318-47a2-4f88-8ed2-3d8ef9adcd3e",
   "metadata": {},
   "outputs": [],
   "source": [
    "X_train_rb_2, X_test_rb_2, y_train_rb_2, y_test_rb_2 = train_test_split(X_rb_2, y_rb_2, test_size = 0.2, random_state = 69)"
   ]
  },
  {
   "cell_type": "code",
   "execution_count": 132,
   "id": "145f9745-a7de-4308-a4eb-d4ef0f90f1ac",
   "metadata": {},
   "outputs": [],
   "source": [
    "forest_rb_2 = RandomForestClassifier(max_depth=5, n_estimators=100, criterion = \"log_loss\").fit(X_train_rb_2, y_train_rb_2.values.ravel())"
   ]
  },
  {
   "cell_type": "code",
   "execution_count": 133,
   "id": "5c896a1a-c663-4700-af15-1256b92747a2",
   "metadata": {},
   "outputs": [
    {
     "data": {
      "text/plain": [
       "<sklearn.metrics._plot.confusion_matrix.ConfusionMatrixDisplay at 0x7fa9e94dceb0>"
      ]
     },
     "execution_count": 133,
     "metadata": {},
     "output_type": "execute_result"
    },
    {
     "data": {
      "image/png": "[encoded data removed]",
      "text/plain": [
       "<Figure size 432x288 with 2 Axes>"
      ]
     },
     "metadata": {
      "needs_background": "light"
     },
     "output_type": "display_data"
    }
   ],
   "source": [
    "metrics.ConfusionMatrixDisplay.from_estimator(forest_rb_2, X_train_rb_2, y_train_rb_2)"
   ]
  },
  {
   "cell_type": "code",
   "execution_count": 134,
   "id": "9f3e8417-d92f-4fef-ba98-aa5c10f2b7fd",
   "metadata": {},
   "outputs": [],
   "source": [
    "predict_rb_2 = forest_rb_2.predict(X_test_rb_2)"
   ]
  },
  {
   "cell_type": "code",
   "execution_count": 135,
   "id": "b3461abb-2352-4250-9c25-59afcb49dd5c",
   "metadata": {},
   "outputs": [
    {
     "data": {
      "text/plain": [
       "<sklearn.metrics._plot.confusion_matrix.ConfusionMatrixDisplay at 0x7fa9eb8e5fd0>"
      ]
     },
     "execution_count": 135,
     "metadata": {},
     "output_type": "execute_result"
    },
    {
     "data": {
      "image/png": "[encoded data removed]",
      "text/plain": [
       "<Figure size 432x288 with 2 Axes>"
      ]
     },
     "metadata": {
      "needs_background": "light"
     },
     "output_type": "display_data"
    }
   ],
   "source": [
    "metrics.ConfusionMatrixDisplay.from_predictions(y_test_rb_2, predict_rb_2)"
   ]
  },
  {
   "cell_type": "code",
   "execution_count": null,
   "id": "fdc5169d-4fa9-4b58-9a41-8deaad684e17",
   "metadata": {},
   "outputs": [],
   "source": []
  },
  {
   "cell_type": "code",
   "execution_count": 111,
   "id": "c19a2782-d8a4-4785-9d69-66737481103e",
   "metadata": {},
   "outputs": [
    {
     "data": {
      "text/plain": [
       "<sklearn.metrics._plot.confusion_matrix.ConfusionMatrixDisplay at 0x7fa9eb449910>"
      ]
     },
     "execution_count": 111,
     "metadata": {},
     "output_type": "execute_result"
    },
    {
     "data": {
      "image/png": "[encoded data removed]",
      "text/plain": [
       "<Figure size 432x288 with 2 Axes>"
      ]
     },
     "metadata": {
      "needs_background": "light"
     },
     "output_type": "display_data"
    }
   ],
   "source": [
    "metrics.ConfusionMatrixDisplay.from_predictions(y_test_rb, predict_rb)"
   ]
  },
  {
   "cell_type": "code",
   "execution_count": 105,
   "id": "6a91e685-2051-4170-8cda-84143faa5dde",
   "metadata": {
    "tags": []
   },
   "outputs": [
    {
     "data": {
      "text/plain": [
       "0    19\n",
       "1     3\n",
       "dtype: int64"
      ]
     },
     "execution_count": 105,
     "metadata": {},
     "output_type": "execute_result"
    }
   ],
   "source": [
    "pd.DataFrame(predict_rb).value_counts()"
   ]
  },
  {
   "cell_type": "code",
   "execution_count": 107,
   "id": "6ab8971d-621b-4200-9241-a9a67ad2da13",
   "metadata": {},
   "outputs": [
    {
     "data": {
      "text/plain": [
       "drafted\n",
       "0          12\n",
       "1          10\n",
       "dtype: int64"
      ]
     },
     "execution_count": 107,
     "metadata": {},
     "output_type": "execute_result"
    }
   ],
   "source": [
    "y_test_rb.value_counts()"
   ]
  },
  {
   "cell_type": "code",
   "execution_count": 101,
   "id": "ce5300c7-9837-43d3-b629-a15d2d96177b",
   "metadata": {},
   "outputs": [
    {
     "data": {
      "text/plain": [
       "0.6818181818181818"
      ]
     },
     "execution_count": 101,
     "metadata": {},
     "output_type": "execute_result"
    }
   ],
   "source": [
    "metrics.accuracy_score(y_test_rb, predict_rb)"
   ]
  },
  {
   "cell_type": "code",
   "execution_count": 66,
   "id": "b09dbd24-533b-4eb9-97a2-15e7c65e1860",
   "metadata": {},
   "outputs": [
    {
     "data": {
      "text/plain": [
       "Int64Index([  8,  13,  65,  17,  62,  89,  51,  33,  10, 103,  96,  60,  83,\n",
       "             34,  74,  30,  26,  99,  28,  86, 102,  31],\n",
       "           dtype='int64')"
      ]
     },
     "execution_count": 66,
     "metadata": {},
     "output_type": "execute_result"
    }
   ],
   "source": [
    "X_test_rb.index"
   ]
  },
  {
   "cell_type": "code",
   "execution_count": 67,
   "id": "62064aef-240a-496c-a895-c0bc06de5a9e",
   "metadata": {},
   "outputs": [],
   "source": [
    "df_check_rb = pd.DataFrame(X_test_rb.index)"
   ]
  },
  {
   "cell_type": "code",
   "execution_count": 68,
   "id": "a57eff52-43b0-4eb2-a644-37e406fd43e6",
   "metadata": {},
   "outputs": [],
   "source": [
    "df_check_rb['prediction'] = predict_rb"
   ]
  },
  {
   "cell_type": "code",
   "execution_count": 70,
   "id": "03a1090f-1f53-4e8e-a138-2d563e6d727e",
   "metadata": {},
   "outputs": [
    {
     "data": {
      "text/html": [
       "<div>\n",
       "<style scoped>\n",
       "    .dataframe tbody tr th:only-of-type {\n",
       "        vertical-align: middle;\n",
       "    }\n",
       "\n",
       "    .dataframe tbody tr th {\n",
       "        vertical-align: top;\n",
       "    }\n",
       "\n",
       "    .dataframe thead th {\n",
       "        text-align: right;\n",
       "    }\n",
       "</style>\n",
       "<table border=\"1\" class=\"dataframe\">\n",
       "  <thead>\n",
       "    <tr style=\"text-align: right;\">\n",
       "      <th></th>\n",
       "      <th>0</th>\n",
       "      <th>prediction</th>\n",
       "    </tr>\n",
       "  </thead>\n",
       "  <tbody>\n",
       "    <tr>\n",
       "      <th>6</th>\n",
       "      <td>51</td>\n",
       "      <td>1</td>\n",
       "    </tr>\n",
       "    <tr>\n",
       "      <th>14</th>\n",
       "      <td>74</td>\n",
       "      <td>1</td>\n",
       "    </tr>\n",
       "    <tr>\n",
       "      <th>18</th>\n",
       "      <td>28</td>\n",
       "      <td>1</td>\n",
       "    </tr>\n",
       "  </tbody>\n",
       "</table>\n",
       "</div>"
      ],
      "text/plain": [
       "     0  prediction\n",
       "6   51           1\n",
       "14  74           1\n",
       "18  28           1"
      ]
     },
     "execution_count": 70,
     "metadata": {},
     "output_type": "execute_result"
    }
   ],
   "source": [
    "df_check_rb[df_check_rb['prediction'] == 1]"
   ]
  },
  {
   "cell_type": "code",
   "execution_count": 103,
   "id": "2e3a88e4-4623-417e-b330-9b5c57405eff",
   "metadata": {},
   "outputs": [
    {
     "data": {
      "text/html": [
       "<div>\n",
       "<style scoped>\n",
       "    .dataframe tbody tr th:only-of-type {\n",
       "        vertical-align: middle;\n",
       "    }\n",
       "\n",
       "    .dataframe tbody tr th {\n",
       "        vertical-align: top;\n",
       "    }\n",
       "\n",
       "    .dataframe thead th {\n",
       "        text-align: right;\n",
       "    }\n",
       "</style>\n",
       "<table border=\"1\" class=\"dataframe\">\n",
       "  <thead>\n",
       "    <tr style=\"text-align: right;\">\n",
       "      <th></th>\n",
       "      <th>Name</th>\n",
       "      <th>num_carries</th>\n",
       "      <th>fumbles</th>\n",
       "      <th>longest_receiving_yards</th>\n",
       "      <th>longest_rushing_yards</th>\n",
       "      <th>receptions</th>\n",
       "      <th>receiving_touchdowns</th>\n",
       "      <th>rushing_touchdowns</th>\n",
       "      <th>kick_returns_total_yards</th>\n",
       "      <th>receiving_total_yards</th>\n",
       "      <th>rushing_total_yards</th>\n",
       "      <th>yards_per_carry</th>\n",
       "      <th>yards_per_reception</th>\n",
       "      <th>drafted</th>\n",
       "      <th>year</th>\n",
       "    </tr>\n",
       "  </thead>\n",
       "  <tbody>\n",
       "    <tr>\n",
       "      <th>51</th>\n",
       "      <td>Brian Robinson</td>\n",
       "      <td>271.0</td>\n",
       "      <td>1.0</td>\n",
       "      <td>51.0</td>\n",
       "      <td>63.0</td>\n",
       "      <td>35.0</td>\n",
       "      <td>2.0</td>\n",
       "      <td>14.0</td>\n",
       "      <td>0.0</td>\n",
       "      <td>296.0</td>\n",
       "      <td>1343.0</td>\n",
       "      <td>5.0</td>\n",
       "      <td>8.5</td>\n",
       "      <td>1</td>\n",
       "      <td>2022</td>\n",
       "    </tr>\n",
       "    <tr>\n",
       "      <th>74</th>\n",
       "      <td>Keaontay Ingram</td>\n",
       "      <td>156.0</td>\n",
       "      <td>1.0</td>\n",
       "      <td>32.0</td>\n",
       "      <td>53.0</td>\n",
       "      <td>22.0</td>\n",
       "      <td>0.0</td>\n",
       "      <td>5.0</td>\n",
       "      <td>0.0</td>\n",
       "      <td>156.0</td>\n",
       "      <td>911.0</td>\n",
       "      <td>5.8</td>\n",
       "      <td>7.1</td>\n",
       "      <td>1</td>\n",
       "      <td>2022</td>\n",
       "    </tr>\n",
       "    <tr>\n",
       "      <th>28</th>\n",
       "      <td>Larry Rountree III</td>\n",
       "      <td>209.0</td>\n",
       "      <td>1.0</td>\n",
       "      <td>23.0</td>\n",
       "      <td>46.0</td>\n",
       "      <td>15.0</td>\n",
       "      <td>0.0</td>\n",
       "      <td>14.0</td>\n",
       "      <td>0.0</td>\n",
       "      <td>100.0</td>\n",
       "      <td>972.0</td>\n",
       "      <td>4.7</td>\n",
       "      <td>6.7</td>\n",
       "      <td>1</td>\n",
       "      <td>2021</td>\n",
       "    </tr>\n",
       "  </tbody>\n",
       "</table>\n",
       "</div>"
      ],
      "text/plain": [
       "                  Name  num_carries  fumbles  longest_receiving_yards  \\\n",
       "51      Brian Robinson        271.0      1.0                     51.0   \n",
       "74     Keaontay Ingram        156.0      1.0                     32.0   \n",
       "28  Larry Rountree III        209.0      1.0                     23.0   \n",
       "\n",
       "    longest_rushing_yards  receptions  receiving_touchdowns  \\\n",
       "51                   63.0        35.0                   2.0   \n",
       "74                   53.0        22.0                   0.0   \n",
       "28                   46.0        15.0                   0.0   \n",
       "\n",
       "    rushing_touchdowns  kick_returns_total_yards  receiving_total_yards  \\\n",
       "51                14.0                       0.0                  296.0   \n",
       "74                 5.0                       0.0                  156.0   \n",
       "28                14.0                       0.0                  100.0   \n",
       "\n",
       "    rushing_total_yards  yards_per_carry  yards_per_reception  drafted  year  \n",
       "51               1343.0              5.0                  8.5        1  2022  \n",
       "74                911.0              5.8                  7.1        1  2022  \n",
       "28                972.0              4.7                  6.7        1  2021  "
      ]
     },
     "execution_count": 103,
     "metadata": {},
     "output_type": "execute_result"
    }
   ],
   "source": [
    "df_rb.loc[[51,74,28]]"
   ]
  },
  {
   "cell_type": "markdown",
   "id": "389b1928-d9f4-4676-803a-65fc54072c3c",
   "metadata": {},
   "source": [
    "## Trying another algorithm for running backs to see if it performs better"
   ]
  },
  {
   "cell_type": "code",
   "execution_count": 90,
   "id": "504ca7a4-2919-484d-b652-103fc670a93f",
   "metadata": {},
   "outputs": [],
   "source": [
    "from sklearn.linear_model import LinearRegression"
   ]
  },
  {
   "cell_type": "code",
   "execution_count": 91,
   "id": "c0447aaa-efa2-4502-adbf-7056c33b95eb",
   "metadata": {},
   "outputs": [],
   "source": [
    "linreg = LinearRegression().fit(X_train_rb, y_train_rb)"
   ]
  },
  {
   "cell_type": "code",
   "execution_count": 93,
   "id": "4eea4c72-5ab2-42fb-bf71-a436e70ace05",
   "metadata": {},
   "outputs": [
    {
     "data": {
      "text/plain": [
       "0.22479494462955552"
      ]
     },
     "execution_count": 93,
     "metadata": {},
     "output_type": "execute_result"
    }
   ],
   "source": [
    "linreg.score(X_train_rb, y_train_rb)"
   ]
  },
  {
   "cell_type": "code",
   "execution_count": 94,
   "id": "a954f34c-5da4-4713-ba31-fc1a4f3df237",
   "metadata": {},
   "outputs": [
    {
     "data": {
      "text/plain": [
       "0.20950416600059485"
      ]
     },
     "execution_count": 94,
     "metadata": {},
     "output_type": "execute_result"
    }
   ],
   "source": [
    "linreg.score(X_test_rb, y_test_rb)"
   ]
  },
  {
   "cell_type": "code",
   "execution_count": 97,
   "id": "3d06341a-273e-47be-97d7-760b8bcb9767",
   "metadata": {},
   "outputs": [
    {
     "data": {
      "text/plain": [
       "array([[0.29128166],\n",
       "       [0.46758598],\n",
       "       [0.35243734],\n",
       "       [0.34742662],\n",
       "       [0.2267948 ],\n",
       "       [0.18548689],\n",
       "       [0.61562206],\n",
       "       [0.33849663],\n",
       "       [0.21345511],\n",
       "       [0.5355321 ],\n",
       "       [0.53774668],\n",
       "       [0.20649529],\n",
       "       [0.2492197 ],\n",
       "       [0.30075449],\n",
       "       [0.45145826],\n",
       "       [0.3701862 ],\n",
       "       [0.39940027],\n",
       "       [0.37380022],\n",
       "       [0.60101689],\n",
       "       [0.46534992],\n",
       "       [0.63484352],\n",
       "       [0.61715675]])"
      ]
     },
     "execution_count": 97,
     "metadata": {},
     "output_type": "execute_result"
    }
   ],
   "source": [
    "linreg.predict(X_test_rb)"
   ]
  },
  {
   "cell_type": "markdown",
   "id": "0ac65b46-5b88-4dad-882d-c6f5a7ec9d89",
   "metadata": {},
   "source": [
    "# Trying for Wide receivers"
   ]
  },
  {
   "cell_type": "code",
   "execution_count": 136,
   "id": "b3fdde9e-0b2d-417e-85ea-e81f3aead0ee",
   "metadata": {},
   "outputs": [],
   "source": [
    "df_wr = pd.read_csv('NFL_draft_data - full_stats_wr.csv')"
   ]
  },
  {
   "cell_type": "code",
   "execution_count": 137,
   "id": "d3728206-2785-47c3-9396-e5bb8d7f252f",
   "metadata": {},
   "outputs": [
    {
     "data": {
      "text/html": [
       "<div>\n",
       "<style scoped>\n",
       "    .dataframe tbody tr th:only-of-type {\n",
       "        vertical-align: middle;\n",
       "    }\n",
       "\n",
       "    .dataframe tbody tr th {\n",
       "        vertical-align: top;\n",
       "    }\n",
       "\n",
       "    .dataframe thead th {\n",
       "        text-align: right;\n",
       "    }\n",
       "</style>\n",
       "<table border=\"1\" class=\"dataframe\">\n",
       "  <thead>\n",
       "    <tr style=\"text-align: right;\">\n",
       "      <th></th>\n",
       "      <th>name</th>\n",
       "      <th>longest_reception</th>\n",
       "      <th>receptions</th>\n",
       "      <th>touchdowns</th>\n",
       "      <th>total_yards</th>\n",
       "      <th>yards_per_reception</th>\n",
       "      <th>weight</th>\n",
       "      <th>height</th>\n",
       "      <th>40_yards_combine</th>\n",
       "      <th>drafted</th>\n",
       "    </tr>\n",
       "  </thead>\n",
       "  <tbody>\n",
       "    <tr>\n",
       "      <th>0</th>\n",
       "      <td>Adrian Hardy</td>\n",
       "      <td>32.0</td>\n",
       "      <td>33</td>\n",
       "      <td>4</td>\n",
       "      <td>440</td>\n",
       "      <td>13.3</td>\n",
       "      <td>205</td>\n",
       "      <td>6.20</td>\n",
       "      <td>4.52</td>\n",
       "      <td>0</td>\n",
       "    </tr>\n",
       "    <tr>\n",
       "      <th>1</th>\n",
       "      <td>Amari Rodgers</td>\n",
       "      <td>83.0</td>\n",
       "      <td>77</td>\n",
       "      <td>7</td>\n",
       "      <td>1020</td>\n",
       "      <td>13.2</td>\n",
       "      <td>210</td>\n",
       "      <td>5.10</td>\n",
       "      <td>4.40</td>\n",
       "      <td>1</td>\n",
       "    </tr>\n",
       "    <tr>\n",
       "      <th>2</th>\n",
       "      <td>Amon-Ra St. Brown</td>\n",
       "      <td>48.0</td>\n",
       "      <td>41</td>\n",
       "      <td>7</td>\n",
       "      <td>478</td>\n",
       "      <td>11.7</td>\n",
       "      <td>195</td>\n",
       "      <td>6.10</td>\n",
       "      <td>4.51</td>\n",
       "      <td>1</td>\n",
       "    </tr>\n",
       "    <tr>\n",
       "      <th>3</th>\n",
       "      <td>Anthony Schwartz</td>\n",
       "      <td>91.0</td>\n",
       "      <td>54</td>\n",
       "      <td>3</td>\n",
       "      <td>652</td>\n",
       "      <td>12.1</td>\n",
       "      <td>179</td>\n",
       "      <td>6.00</td>\n",
       "      <td>4.26</td>\n",
       "      <td>1</td>\n",
       "    </tr>\n",
       "    <tr>\n",
       "      <th>4</th>\n",
       "      <td>Antonio Nunn</td>\n",
       "      <td>82.0</td>\n",
       "      <td>36</td>\n",
       "      <td>2</td>\n",
       "      <td>579</td>\n",
       "      <td>16.1</td>\n",
       "      <td>204</td>\n",
       "      <td>5.11</td>\n",
       "      <td>4.47</td>\n",
       "      <td>0</td>\n",
       "    </tr>\n",
       "  </tbody>\n",
       "</table>\n",
       "</div>"
      ],
      "text/plain": [
       "                name  longest_reception  receptions  touchdowns  total_yards  \\\n",
       "0       Adrian Hardy               32.0          33           4          440   \n",
       "1      Amari Rodgers               83.0          77           7         1020   \n",
       "2  Amon-Ra St. Brown               48.0          41           7          478   \n",
       "3   Anthony Schwartz               91.0          54           3          652   \n",
       "4       Antonio Nunn               82.0          36           2          579   \n",
       "\n",
       "   yards_per_reception  weight  height  40_yards_combine  drafted  \n",
       "0                 13.3     205    6.20              4.52        0  \n",
       "1                 13.2     210    5.10              4.40        1  \n",
       "2                 11.7     195    6.10              4.51        1  \n",
       "3                 12.1     179    6.00              4.26        1  \n",
       "4                 16.1     204    5.11              4.47        0  "
      ]
     },
     "execution_count": 137,
     "metadata": {},
     "output_type": "execute_result"
    }
   ],
   "source": [
    "df_wr.head()"
   ]
  },
  {
   "cell_type": "code",
   "execution_count": 141,
   "id": "cc2c5988-5c0f-4117-b2eb-b2ee83a1825c",
   "metadata": {},
   "outputs": [],
   "source": [
    "df_wr = df_wr.fillna(0)"
   ]
  },
  {
   "cell_type": "code",
   "execution_count": 142,
   "id": "b77908a5-1105-4125-a7c0-944812b0201b",
   "metadata": {},
   "outputs": [],
   "source": [
    "X_wr = df_wr.drop(columns = ['name', 'drafted'])\n",
    "y_wr = df_wr[['drafted']]"
   ]
  },
  {
   "cell_type": "code",
   "execution_count": 143,
   "id": "f3023350-96f7-4011-a4cb-517ea59e56d1",
   "metadata": {},
   "outputs": [],
   "source": [
    "X_train_wr, X_test_wr, y_train_wr, y_test_wr = train_test_split(X_wr, y_wr, test_size = 0.2, random_state = 69)"
   ]
  },
  {
   "cell_type": "code",
   "execution_count": 144,
   "id": "c6e36fa7-c6fb-4623-8f51-aab7217db203",
   "metadata": {},
   "outputs": [],
   "source": [
    "forest_wr = RandomForestClassifier(max_depth=5, n_estimators=100, criterion = \"log_loss\").fit(X_train_wr, y_train_wr.values.ravel())"
   ]
  },
  {
   "cell_type": "code",
   "execution_count": 145,
   "id": "4d6b03be-6c8e-409d-8021-9c9a4f2c75b4",
   "metadata": {},
   "outputs": [
    {
     "data": {
      "text/plain": [
       "<sklearn.metrics._plot.confusion_matrix.ConfusionMatrixDisplay at 0x7fa9eb0c9610>"
      ]
     },
     "execution_count": 145,
     "metadata": {},
     "output_type": "execute_result"
    },
    {
     "data": {
      "image/png": "[encoded data removed]",
      "text/plain": [
       "<Figure size 432x288 with 2 Axes>"
      ]
     },
     "metadata": {
      "needs_background": "light"
     },
     "output_type": "display_data"
    }
   ],
   "source": [
    "metrics.ConfusionMatrixDisplay.from_estimator(forest_wr, X_train_wr, y_train_wr)"
   ]
  },
  {
   "cell_type": "code",
   "execution_count": 146,
   "id": "5fbad2f6-33f0-4aa7-a7ce-a6022f948acd",
   "metadata": {},
   "outputs": [],
   "source": [
    "predict_wr = forest_wr.predict(X_test_wr)"
   ]
  },
  {
   "cell_type": "code",
   "execution_count": 147,
   "id": "5ca9bac8-bb91-4925-912c-5f4d4e8c40b1",
   "metadata": {},
   "outputs": [
    {
     "data": {
      "text/plain": [
       "<sklearn.metrics._plot.confusion_matrix.ConfusionMatrixDisplay at 0x7fa9ebba8b20>"
      ]
     },
     "execution_count": 147,
     "metadata": {},
     "output_type": "execute_result"
    },
    {
     "data": {
      "image/png": "[encoded data removed]",
      "text/plain": [
       "<Figure size 432x288 with 2 Axes>"
      ]
     },
     "metadata": {
      "needs_background": "light"
     },
     "output_type": "display_data"
    }
   ],
   "source": [
    "metrics.ConfusionMatrixDisplay.from_predictions(y_test_wr, predict_wr)"
   ]
  },
  {
   "cell_type": "code",
   "execution_count": 149,
   "id": "f12965c9-7e1f-4b51-a6fb-b97921ec6c5a",
   "metadata": {},
   "outputs": [
    {
     "data": {
      "text/plain": [
       "0.8387096774193549"
      ]
     },
     "execution_count": 149,
     "metadata": {},
     "output_type": "execute_result"
    }
   ],
   "source": [
    "metrics.accuracy_score(y_test_wr, predict_wr)"
   ]
  },
  {
   "cell_type": "code",
   "execution_count": 150,
   "id": "2182f304-05b4-48da-869f-1cd44a4ee764",
   "metadata": {},
   "outputs": [
    {
     "data": {
      "text/plain": [
       "array([0.12970309, 0.11769447, 0.10836679, 0.15487756, 0.11518468,\n",
       "       0.07936021, 0.05123095, 0.24358226])"
      ]
     },
     "execution_count": 150,
     "metadata": {},
     "output_type": "execute_result"
    }
   ],
   "source": [
    "forest_wr.feature_importances_"
   ]
  },
  {
   "cell_type": "code",
   "execution_count": 151,
   "id": "8e2667fb-5f62-42f3-b147-bb00d7a00456",
   "metadata": {},
   "outputs": [
    {
     "data": {
      "text/plain": [
       "Index(['longest_reception', 'receptions', 'touchdowns', 'total_yards',\n",
       "       'yards_per_reception', 'weight', 'height', '40_yards_combine'],\n",
       "      dtype='object')"
      ]
     },
     "execution_count": 151,
     "metadata": {},
     "output_type": "execute_result"
    }
   ],
   "source": [
    "X_train_wr.columns"
   ]
  }
 ],
 "metadata": {
  "kernelspec": {
   "display_name": "Python 3 (ipykernel)",
   "language": "python",
   "name": "python3"
  },
  "language_info": {
   "codemirror_mode": {
    "name": "ipython",
    "version": 3
   },
   "file_extension": ".py",
   "mimetype": "text/x-python",
   "name": "python",
   "nbconvert_exporter": "python",
   "pygments_lexer": "ipython3",
   "version": "3.9.7"
  }
 },
 "nbformat": 4,
 "nbformat_minor": 5
}
